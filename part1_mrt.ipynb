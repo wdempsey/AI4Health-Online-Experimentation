{
 "cells": [
  {
   "cell_type": "markdown",
   "metadata": {
    "colab_type": "text",
    "id": "view-in-github"
   },
   "source": [
    "<a href=\"https://colab.research.google.com/github/wdempsey/AI4Health-Online-Experimentation/blob/main/part1_mrt.ipynb\" target=\"_parent\"><img src=\"https://colab.research.google.com/assets/colab-badge.svg\" alt=\"Open In Colab\"/></a>"
   ]
  },
  {
   "cell_type": "markdown",
   "metadata": {
    "id": "VRMH8jI_13OX"
   },
   "source": [
    "# Section 1: Introduction to MRTs and JITAIS\n",
    "\n"
   ]
  },
  {
   "cell_type": "markdown",
   "metadata": {
    "id": "q_OHHDg8tNW2"
   },
   "source": [
    "In section 1, we will discuss the _micro-randomized trial design_ and the corresponding primary data analysis methods.  By the end of this section, you should be able to answer the following set of questions:\n",
    "- What is a just-in-time adaptive intervention (JITAI)? \n",
    "- What is a micro-randomized trial?\n",
    "- What is a causal excursion effect?  How does one estimate this effect?\n",
    "- What are the main goals of early-stage optimization trials?\n",
    "\n",
    "In addition, we will introduce the _HeartSteps simulator_.  This is a suite of functions that you can access via the GitHub Repository (in folder ``./hs_simulator/``) which allows us to generate synthetic users in a synthetic MRT for increasing physical activity.  We will use this simulator throughout this practical session. "
   ]
  },
  {
   "cell_type": "code",
   "execution_count": 48,
   "metadata": {
    "id": "rvhbY9u0mwXb"
   },
   "outputs": [],
   "source": [
    "## Import packages and check code cells run\n",
    "import numpy as np\n",
    "import scipy as sp\n",
    "from sklearn.linear_model import LinearRegression"
   ]
  },
  {
   "cell_type": "markdown",
   "metadata": {
    "id": "_YKIaRcmwv-g"
   },
   "source": [
    "# Part 1: Just-in-time adaptive interventions\n"
   ]
  },
  {
   "cell_type": "markdown",
   "metadata": {
    "id": "jZP-YwuptHcE"
   },
   "source": [
    "A JITAI is ``is an intervention design aiming to provide the right type/amount of support, at the right time, by adapting to an individual's changing internal and contextual state'' (Nahum-Shani, 2018).  \n",
    "\n",
    "- The term “just-in-time support” is used to describe an attempt to provide the right type (or amount) of support, at the right time.\n",
    "- Timing is largely event-based, e.g., \"a moment of high vulnerability and high receptivity\".  \n",
    "  - Ex. For a person attempting to quit smoking, a moment of high stress may lead to high likelihood of relapse.  If the person is currently available (e.g., no meeting on Google Calendar) and not currently active (e.g., not out for a walk), then the person may be receptive to a brief prompt aimed at reducing proximal stress.\n",
    "  - This is not \"timing-based\", e.g., need to take pills at 4pm every day.\n"
   ]
  },
  {
   "cell_type": "markdown",
   "metadata": {
    "id": "ln01XKOirhVS"
   },
   "source": [
    "\n",
    "There are 5 key components of a JITAI:\n",
    "- __Decision Points__: A decision point is a time at which an intervention decision is made. \n",
    "- __Intervention Options__: An array of possible treatments or actions that might be employed at any given decision point.\n",
    "- __Tailoring Variable__: A tailoring variable is information concerning the individual that is used to decide when (i.e., under what conditions) to provide an intervention and which intervention to provide. \n",
    "- __Outcome__:\n",
    "  - __Distal outcome__: Ultimate goal the intervention is intended to achieve; it is usually a primary clinical outcome, such as weight loss, drug/alcohol use reduction or increase in average activity level.  \n",
    "  - __Proximal outcome__: Short-term goals the intervention options are intended to achieve.  Typically thought to be on the causal pathway (i.e., a mediator).\n",
    "- __Decision rules__:  Operationalize the adaptation by specifying which intervention option to offer, for whom, and when. \n"
   ]
  },
  {
   "cell_type": "markdown",
   "metadata": {
    "id": "0xsctSnZrifU"
   },
   "source": [
    "A JITAI is an _intervention design_.  Behavioral scientists often have questions in how to best design a JITAI for a particular behavioral health setting.  Consider an mHealth smoking cessation setting.  Scientists may wish to intervene by either sending a reminder to practice mindfulness (hopefully reducing proximal stress) or not; however, it is unknown whether sending the message when the individual is currently stressed (high vulnerability but low receptivity) is better than when the individual is current not stressed (low vulnerability but high receptivity).  \n",
    "\n",
    "We will break for 10 minutes for small group intros and a short exercise.\n",
    "\n",
    "- __Group Task 1__: Identify the 5 elements from the following decision rule in a recovery support services mHealth study (A-CHESS):\n",
    "  - __``If``__ ``At High Risk Location``, __``Then``__ ``IO = Send Message``, __``Else``__ ``IO = Do Nothing``.\n",
    "- __Group Task 2__: Construct a JITAI to be included in a smoking cessation mHealth intervention package aimed at reducing proximal stress.  Be sure to highlight the 5 key elements.   \n"
   ]
  },
  {
   "cell_type": "markdown",
   "metadata": {
    "id": "q6qWBt8x2BEW"
   },
   "source": [
    "#Part 2: Micro-randomized trials (MRTs)"
   ]
  },
  {
   "cell_type": "markdown",
   "metadata": {
    "id": "EC6PEcBps-M7"
   },
   "source": [
    "MRTs are an experimental design to collect data to answer questions about the construction of JITAIs. \n",
    "\n",
    "- For each person in a study, let $t=1,\\ldots, T$ denote a sequence of decision points.  \n",
    "- At each decision time $t$,  we observe a state variable $S_t \\in \\mathbb{R}^p$.  \n",
    "- After observing the state variable $S_t$, the _clinical trialist_ decides to take action $A_t \\in \\mathcal{A}$ with probability $p_t (A_t \\mid H_t)$ (i.e., the randomization probability may depend on the observed history $H_t$).  \n",
    "- After observing state $S_t$ and taking action $A_t$, the agent observes the proximal response $Y_{t+1}$.  The proximal response is a deterministic function of state, action, and next state (i.e., $Y_{t+1} = g(S_t, A_t, S_{t+1})$)\n",
    "- The sequence of state, action, and reward at a sequence of decision points defines a _micro-randomized trial_, $\\{ S_t, A_t, Y_{t+1} \\}_{t=1}^T$.\n",
    "- Here, our goal is to collect data to optimize an intervention component\n",
    "  - Q1: Should we include this intervention component in an overall intervention package?\n",
    "  - Q2: What should the decision rule be in the optimized JITAI?"
   ]
  },
  {
   "cell_type": "markdown",
   "metadata": {
    "id": "YVoo7_phPz6J"
   },
   "source": [
    "## Part 2a: A simple MRT example ($n=1$)\n",
    "\n",
    "- $T = 200$\n",
    "- $S_t = (S_{t1}, S_{t2})$ where $S_{t1}$ is continuous and $S_{t2}$ is a binary state\n",
    "- $A_t \\sim \\text{Bern}(0.6)$\n",
    "- Define the proximal outcome as\n",
    "$$\n",
    "Y_{t+1} = S_t^\\prime \\alpha + (A_t - 0.6) S_t^\\prime \\beta \n",
    "$$"
   ]
  },
  {
   "cell_type": "code",
   "execution_count": 55,
   "metadata": {
    "colab": {
      "name": "part1_mrt.ipynb",
      "provenance": [],
      "authorship_tag": "ABX9TyO7cQB1ZVNNWTHYqfAp67Ej",
      "include_colab_link": true
    },
    "kernelspec": {
      "name": "python3",
      "display_name": "Python 3"
    },
   "source": [
    "# Simulation example\n",
    "T = 200 # number of steps\n",
    "mrt_prob = 0.6 # time-constant MRT randomizatoin probability\n",
    "state_params = {'mu': 0., 'sigma': 1., 'p': 0.5}\n",
    "\n",
    "## Generate context (normal and binary states)\n",
    "def generate_states(T, params):\n",
    "  state1mu = float(params['mu']) # mean\n",
    "  state1sigma = params['sigma'] # standard deviation\n",
    "  state1 = np.random.normal(state1mu, state1sigma, T) # Continuous state\n",
    "  state2prob =  params['p']\n",
    "  state2 = np.random.binomial(n=1, p = state2prob,size=T) # Binary state\n",
    "  state = np.stack((state1,state2), axis = 1) # Compelte State at each time\n",
    "  return state\n",
    "\n",
    "## Generate actions (MRT with time-fixed probability)\n",
    "def generate_actions(mrt_prob, T):\n",
    "  action = np.random.binomial(n=1, p = mrt_prob,size=T) # Binary state\n",
    "  return action\n",
    "\n",
    "## Generate true reward\n",
    "def proximaloutcome(state, action, params):\n",
    "  base_reward = state[0] + 0.3*state[1] \n",
    "  advantage = 0.5*state[0] - 0.7*state[1]\n",
    "  return base_reward + advantage * (action - 0.6)\n",
    "\n",
    "## Generate single user MRT data\n",
    "def generate_user(params, mrt_prob, T):\n",
    "  state = generate_states(T, params)\n",
    "  action = generate_actions(mrt_prob, T)\n",
    "  y = np.repeat(0.,T)\n",
    "  for t in range(T):\n",
    "    y[t] = proximaloutcome(state[t,:], action[t], params) + np.random.normal(0, 1, 1)\n",
    "  ## Triple\n",
    "  return state, action, y \n",
    "\n",
    "user_state, user_action, user_outcome = generate_user(state_params, mrt_prob, T)\n",
    "user_data = np.column_stack((user_state,user_action, user_outcome))\n",
    "print(\"First 10 entries of state (2D), action, and reward\")\n",
    "print(user_data[1:10,:])\n",
    "print(\"\\n\")"
   ]
  },
  "cells": [
    {
      "cell_type": "markdown",
      "metadata": {
        "id": "view-in-github",
        "colab_type": "text"
      },
      "source": [
        "<a href=\"https://colab.research.google.com/github/wdempsey/AI4Health-Online-Experimentation/blob/main/part1_mrt.ipynb\" target=\"_parent\"><img src=\"https://colab.research.google.com/assets/colab-badge.svg\" alt=\"Open In Colab\"/></a>"
      ]
    },
    {
      "cell_type": "markdown",
      "metadata": {
        "id": "VRMH8jI_13OX"
      },
      "source": [
        "# Section 1: Introduction to MRTs and JITAIS\r\n",
        "\r\n"
      ]
    },
    {
      "cell_type": "markdown",
      "metadata": {
        "id": "q_OHHDg8tNW2"
      },
      "source": [
        "In section 1, we will discuss the _micro-randomized trial design_ and the corresponding primary data analysis methods.  By the end of this section, you should be able to answer the following set of questions:\r\n",
        "- What is a just-in-time adaptive intervention (JITAI)? \r\n",
        "- What is a micro-randomized trial?\r\n",
        "- What is a causal excursion effect?  How does one estimate this effect?\r\n",
        "- What are the main goals of early-stage optimization trials?\r\n",
        "\r\n",
        "In addition, we will introduce the _HeartSteps simulator_.  This is a suite of functions that you can access via the GitHub Repository (in folder ``./hs_simulator/``) which allows us to generate synthetic users in a synthetic MRT for increasing physical activity.  We will use this simulator throughout this practical session. "
      ]
    },
    {
      "cell_type": "code",
      "metadata": {
        "id": "rvhbY9u0mwXb"
      },
      "source": [
        "## Import packages and check code cells run\n",
        "import numpy as np\n",
        "import scipy as sp\n",
        "from sklearn.linear_model import LinearRegression\n",
        "import random\n",
        "\n",
        "random.seed(719)"
      ],
      "execution_count": 18,
      "outputs": []
    },
    {
      "cell_type": "markdown",
      "metadata": {
        "id": "_YKIaRcmwv-g"
      },
      "source": [
        "# Part 1: Just-in-time adaptive interventions\r\n"
      ]
    },
    {
      "cell_type": "markdown",
      "metadata": {
        "id": "jZP-YwuptHcE"
      },
      "source": [
        "A JITAI is ``is an intervention design aiming to provide the right type/amount of support, at the right time, by adapting to an individual's changing internal and contextual state'' (Nahum-Shani, 2018).  \r\n",
        "\r\n",
        "- The term “just-in-time support” is used to describe an attempt to provide the right type (or amount) of support, at the right time.\r\n",
        "- Timing is largely event-based, e.g., \"a moment of high vulnerability and high receptivity\".  \r\n",
        "  - Ex. For a person attempting to quit smoking, a moment of high stress may lead to high likelihood of relapse.  If the person is currently available (e.g., no meeting on Google Calendar) and not currently active (e.g., not out for a walk), then the person may be receptive to a brief prompt aimed at reducing proximal stress.\r\n",
        "  - This is not \"timing-based\", e.g., need to take pills at 4pm every day.\r\n"
      ]
    },
    {
      "cell_type": "markdown",
      "metadata": {
        "id": "ln01XKOirhVS"
      },
      "source": [
        "\r\n",
        "There are 5 key components of a JITAI:\r\n",
        "- __Decision Points__: A decision point is a time at which an intervention decision is made. \r\n",
        "- __Intervention Options__: An array of possible treatments or actions that might be employed at any given decision point.\r\n",
        "- __Tailoring Variable__: A tailoring variable is information concerning the individual that is used to decide when (i.e., under what conditions) to provide an intervention and which intervention to provide. \r\n",
        "- __Outcome__:\r\n",
        "  - __Distal outcome__: Ultimate goal the intervention is intended to achieve; it is usually a primary clinical outcome, such as weight loss, drug/alcohol use reduction or increase in average activity level.  \r\n",
        "  - __Proximal outcome__: Short-term goals the intervention options are intended to achieve.  Typically thought to be on the causal pathway (i.e., a mediator).\r\n",
        "- __Decision rules__:  Operationalize the adaptation by specifying which intervention option to offer, for whom, and when. \r\n"
      ]
    },
    {
      "cell_type": "markdown",
      "metadata": {
        "id": "0xsctSnZrifU"
      },
      "source": [
        "A JITAI is an _intervention design_.  Behavioral scientists often have questions in how to best design a JITAI for a particular behavioral health setting.  Consider an mHealth smoking cessation setting.  Scientists may wish to intervene by either sending a reminder to practice mindfulness (hopefully reducing proximal stress) or not; however, it is unknown whether sending the message when the individual is currently stressed (high vulnerability but low receptivity) is better than when the individual is current not stressed (low vulnerability but high receptivity).  \r\n",
        "\r\n",
        "We will break for 10 minutes for small group intros and a short exercise.\r\n",
        "\r\n",
        "- __Group Task 1__: Identify the 5 elements from the following decision rule in a recovery support services mHealth study (A-CHESS):\r\n",
        "  - __``If``__ ``At High Risk Location``, __``Then``__ ``IO = Send Message``, __``Else``__ ``IO = Do Nothing``.\r\n",
        "- __Group Task 2__: Construct a JITAI to be included in a smoking cessation mHealth intervention package aimed at reducing proximal stress.  Be sure to highlight the 5 key elements.   \r\n"
      ]
    },
    {
      "cell_type": "markdown",
      "metadata": {
        "id": "q6qWBt8x2BEW"
      },
      "source": [
        "#Part 2: Micro-randomized trials (MRTs)"
      ]
    },
    {
      "cell_type": "markdown",
      "metadata": {
        "id": "EC6PEcBps-M7"
      },
      "source": [
        "MRTs are an experimental design to collect data to answer questions about the construction of JITAIs. \r\n",
        "\r\n",
        "- For each person in a study, let $t=1,\\ldots, T$ denote a sequence of decision points.  \r\n",
        "- At each decision time $t$,  we observe a state variable $S_t \\in \\mathbb{R}^p$.  \r\n",
        "- After observing the state variable $S_t$, the _clinical trialist_ decides to take action $A_t \\in \\mathcal{A}$ with probability $p_t (A_t \\mid H_t)$ (i.e., the randomization probability may depend on the observed history $H_t$).  \r\n",
        "- After observing state $S_t$ and taking action $A_t$, the agent observes the proximal response $Y_{t+1}$.  The proximal response is a deterministic function of state, action, and next state (i.e., $Y_{t+1} = g(S_t, A_t, S_{t+1})$)\r\n",
        "- The sequence of state, action, and reward at a sequence of decision points defines a _micro-randomized trial_, $\\{ S_t, A_t, Y_{t+1} \\}_{t=1}^T$.\r\n",
        "- Here, our goal is to collect data to optimize an intervention component\r\n",
        "  - Q1: Should we include this intervention component in an overall intervention package?\r\n",
        "  - Q2: What should the decision rule be in the optimized JITAI?"
      ]
    },
    {
      "cell_type": "markdown",
      "metadata": {
        "id": "YVoo7_phPz6J"
      },
      "source": [
        "## Part 2a: A simple MRT example ($n=1$)\r\n",
        "\r\n",
        "- $T = 200$\r\n",
        "- $S_t = (S_{t1}, S_{t2})$ where $S_{t1}$ is continuous and $S_{t2}$ is a binary state\r\n",
        "- $A_t \\sim \\text{Bern}(0.6)$\r\n",
        "- Define the proximal outcome as\r\n",
        "$$\r\n",
        "Y_{t+1} = S_t^\\prime \\alpha + (A_t - 0.6) S_t^\\prime \\beta \r\n",
        "$$"
      ]
    },
    {
      "cell_type": "code",
      "metadata": {
        "id": "EIRfY7By1qUQ",
        "colab": {
          "base_uri": "https://localhost:8080/"
        },
        "outputId": "63de01e0-5f46-4597-ecfb-d1a1538aa6a3"
      },
      "source": [
        "# Simulation example\n",
        "T = 200 # number of steps\n",
        "mrt_prob = 0.6 # time-constant MRT randomizatoin probability\n",
        "state_params = {'mu': 0., 'sigma': 1., 'p': 0.5}\n",
        "\n",
        "## Generate context (normal and binary states)\n",
        "def generate_states(T, params):\n",
        "  state1mu = float(params['mu']) # mean\n",
        "  state1sigma = params['sigma'] # standard deviation\n",
        "  state1 = np.random.normal(state1mu, state1sigma, T) # Continuous state\n",
        "  state2prob =  params['p']\n",
        "  state2 = np.random.binomial(n=1, p = state2prob,size=T) # Binary state\n",
        "  state = np.stack((state1,state2), axis = 1) # Compelte State at each time\n",
        "  return state\n",
        "\n",
        "## Generate actions (MRT with time-fixed probability)\n",
        "def generate_actions(mrt_prob, T):\n",
        "  action = np.random.binomial(n=1, p = mrt_prob,size=T) # Binary state\n",
        "  return action\n",
        "\n",
        "## Generate true reward\n",
        "def proximaloutcome(state, action, params):\n",
        "  base_reward = state[0] + 0.3*state[1] \n",
        "  advantage = 0.5*state[0] - 0.7*state[1]\n",
        "  return base_reward + advantage * (action - 0.6)\n",
        "\n",
        "## Generate single user MRT data\n",
        "def generate_user(params, mrt_prob, T):\n",
        "  state = generate_states(T, params)\n",
        "  action = generate_actions(mrt_prob, T)\n",
        "  y = np.repeat(0.,T)\n",
        "  for t in range(T):\n",
        "    y[t] = proximaloutcome(state[t,:], action[t], params) + np.random.normal(0, 1, 1)\n",
        "  ## Triple\n",
        "  return state, action, y \n",
        "\n",
        "user_state, user_action, user_outcome = generate_user(state_params, mrt_prob, T)\n",
        "user_data = np.column_stack((user_state,user_action, user_outcome))\n",
        "print(\"First 10 entries of state (2D), action, and reward\")\n",
        "print(user_data[1:10,:])\n",
        "print(\"\\n\")"
      ],
      "execution_count": 19,
      "outputs": [
        {
          "output_type": "stream",
          "text": [
            "First 10 entries of state (2D), action, and reward\n",
            "[[ 0.72966291  0.          0.          0.07725033]\n",
            " [ 1.0750134   0.          1.          1.69117326]\n",
            " [ 0.87717502  0.          0.          0.1250736 ]\n",
            " [-1.10162494  0.          0.         -1.21838884]\n",
            " [ 0.03138583  1.          0.          0.31071534]\n",
            " [ 0.54309465  0.          0.         -0.13460607]\n",
            " [ 1.08640733  1.          1.          3.14107262]\n",
            " [ 0.91088378  0.          0.          1.47954077]\n",
            " [ 0.08145322  1.          1.          0.98164454]]\n",
            "\n",
            "\n"
          ],
          "name": "stdout"
        }
      ]
    },
    {
      "cell_type": "code",
      "metadata": {
        "id": "_L8vIkdSS1lk",
        "colab": {
          "base_uri": "https://localhost:8080/"
        },
        "outputId": "d474d59e-e8b2-470e-d176-f242bca6a099"
      },
      "source": [
        "## Let's fit a model to the user-data.\r\n",
        "## Build the design matrix\r\n",
        "X = user_state\r\n",
        "for col in range(2):\r\n",
        "  temp = np.multiply(user_state[:,col],user_action)\r\n",
        "  X = np.column_stack((X, temp))\r\n",
        "\r\n",
        "reg = LinearRegression().fit(X,user_outcome)\r\n",
        "print(\"True coefficients using linear model\")\r\n",
        "print(np.array([1,0.3,0.5,-0.7]))\r\n",
        "print(\"Fitted coefficients using linear model\")\r\n",
        "print(reg.coef_)"
      ],
      "execution_count": 20,
      "outputs": [
        {
          "output_type": "stream",
          "text": [
            "True coefficients using linear model\n",
            "[ 1.   0.3  0.5 -0.7]\n",
            "Fitted coefficients using linear model\n",
            "[ 0.77211412  0.93759709  0.53831236 -0.89174367]\n"
          ],
          "name": "stdout"
        }
      ]
    },
    {
      "cell_type": "markdown",
      "metadata": {
        "id": "5F464G1FwNiu"
      },
      "source": [
        "## Question 1: Why do we generate the proximal outcome in this way?"
      ]
    },
    {
      "cell_type": "markdown",
      "metadata": {
        "id": "jKrgg-JgJOib"
      },
      "source": [
        "If we take the expectation over the centered treatment we have\r\n",
        "\r\n",
        "$$\r\n",
        "\\mathbb{E} \\left[ (A_t - p_t) \\mid S_t \\right] = 0\r\n",
        "$$ \r\n",
        "\r\n",
        "This means that the first term is the baseline reward (averaging over treatment) and the second term is the treatment effect.  Centering effectively decouples the treatment effect model from the baseline model."
      ]
    },
    {
      "cell_type": "markdown",
      "metadata": {
        "id": "KwolFIRmvIqC"
      },
      "source": [
        "## Question 2: How can we adapt the traditional RCT estimand to the current setting?\r\n",
        "\r\n",
        "In an RCT, the __average treatment effect__ (ATE) is of interest.  We use potential outcomes to define this.  Let $Y(z)$ denote the potential outcome under treatment $z$.  Then, the ATE is defined as\r\n",
        "$$\r\n",
        "ATE = \\mathbb{E} \\left[ Y(1) - Y(0) \\right] \r\n",
        "$$\r\n",
        "where $Y(1)$ and $Y(0)$ are the potential outcomes for the participant under treatment $(z=1)$ and control $(z=0)$ respectively.  The expectation is with respect to the target population. \r\n",
        "\r\n",
        "Here, we have different a sequence of proximal outcomes.  How would you think about defining contrasts similar to the ATE in the current setting?"
      ]
    },
    {
      "cell_type": "markdown",
      "metadata": {
        "id": "CYJQPaKw8Ash"
      },
      "source": [
        "We will formally define this below, but if we think about the potential outcomes, we realize that the proximal outcome at time $t$ will depend not only on the current treatment, __but all prior treatments as well__!  So we need to consider contrasts defined by\n",
        "$$\n",
        "Y_{t+1}( \\bar a_{t-1}, 1 ) - Y_{t+1}( \\bar a_{t-1}, 0 )\n",
        "$$\n",
        "The main issue is that there are $2^{t-1}$ contrasts. This is quite numerous so instead, we typically consider averages over prior treatment.\n",
        "$$\n",
        "\\mathbb{E} \\left[ Y_{t+1}( \\bar A_{t-1}, 1 ) - Y_{t+1}( \\bar A_{t-1}, 0 ) \\right]\n",
        "$$\n",
        "\n"
      ]
    },
    {
      "cell_type": "markdown",
      "metadata": {
        "id": "CbnRinwV8DSb"
      },
      "source": [
        "## Question 3: What goes into choosing the randomization probabilities?\n",
        "\n",
        "- Why may we not want to use a simple Bernoulli $p=1/2$ coin flip to collect data in all micro-randomized trials?\n"
      ]
    },
    {
      "cell_type": "markdown",
      "metadata": {
        "id": "zfrZnOLpMKQI"
      },
      "source": [
        "Some reasons include\n",
        "  - __Burden__: users may not tolerate receiving many messages per day.  Suppose there were 5 decision points per day.  In an mHealth study aimed at increasing physical activity, too many messages sent on average may over-burden users?  How do we find out this dosage?\n",
        "  - __Availability__:  sometimes it may not be possible due to ethical or feasibility issues to provide treatment.  \n",
        "  - __At-risk times__: it may only be useful to provide interventions in certain states.  In Sense2Stop, a smoking cessation may only want to provide \n",
        "  - __Prior data__: perhaps we ran a proir MRT and have data on which to base a data-driven JITAI.  In this case, we may adjust probabilities to increase chance of sending a message in settings that had high empirical rewards from prior data (more on this later).\n",
        "\n"
      ]
    },
    {
      "cell_type": "markdown",
      "metadata": {
        "id": "noC7Rv40UUpY"
      },
      "source": [
        "## Small Group Exercises (20 minutes)\r\n",
        "\r\n",
        "- Discuss about questions 1-3\r\n",
        "- Use the following code where the randomization probability depends on the current state.  \r\n",
        "- Do the regression results depend on these changes?  What if the model is misspecified?\r\n"
      ]
    },
    {
      "cell_type": "code",
      "metadata": {
        "id": "9GH2qexbTh7m"
      },
      "source": [
        "## Generate actions (MRT with time-fixed probability)\r\n",
        "def expit(mrt_params, user_state):\r\n",
        "  total = mrt_params[0]*user_state[0]+mrt_params[1]*user_state[1]+mrt_params[2]\r\n",
        "  prob = 1/ (1+np.exp(-total))\r\n",
        "  return prob\r\n",
        "\r\n",
        "mrt_params = np.array([0.,0.,-np.log(1/0.7-1)])\r\n",
        "\r\n",
        "expit(mrt_params, user_state[1,:])\r\n",
        "\r\n",
        "## Generate actions (MRT with time-fixed probability)\r\n",
        "def generate_actions(mrt_params, user_state):\r\n",
        "  action = np.repeat(0., user_state.shape[0])\r\n",
        "  prob = np.repeat(0., user_state.shape[0])\r\n",
        "  for i in range(user_state.shape[0]):\r\n",
        "    current_state = user_state[i,:]\r\n",
        "    current_prob = expit(mrt_params, current_state)\r\n",
        "    prob[i] = current_prob\r\n",
        "    action[i] = np.random.binomial(n=1, p = current_prob,size=1) # Binary state\r\n",
        "  return prob, action\r\n",
        "\r\n",
        "## Generate true reward\r\n",
        "def proximaloutcome(state, action, prob, params):\r\n",
        "  base_reward = state[0] + 0.3*state[1] \r\n",
        "  advantage = 0.5*state[0] - 0.7*state[1]\r\n",
        "  return base_reward + advantage * (action - prob)\r\n",
        "\r\n",
        "## Generate single user MRT data\r\n",
        "def generate_user(params, mrt_params, T):\r\n",
        "  state = generate_states(T, params)\r\n",
        "  prob, action = generate_actions(mrt_params, state)\r\n",
        "  y = np.repeat(0.,T)\r\n",
        "  for t in range(T):\r\n",
        "    y[t] = proximaloutcome(state[t,:], action[t], prob[t], params) + np.random.normal(0, 1, 1)\r\n",
        "  ## Triple\r\n",
        "  return state, prob, action, y "
      ],
      "execution_count": 21,
      "outputs": []
    },
    {
      "cell_type": "code",
      "metadata": {
        "id": "sxYe0W-Pkyit",
        "colab": {
          "base_uri": "https://localhost:8080/"
        },
        "outputId": "cc87a632-dda5-4fb3-8409-019dfaf2c749"
      },
      "source": [
        "## CODE FOR MRT Generation\r\n",
        "def generate_mrt(n, params, mrt_params, T):\r\n",
        "  ### Generate multiple users\r\n",
        "  study_ids = []\r\n",
        "  study_states = []\r\n",
        "  study_probs = []\r\n",
        "  study_actions = []\r\n",
        "  study_y = []\r\n",
        "  for i in range(n):\r\n",
        "    user_state, user_prob, user_action, user_y = generate_user(params, mrt_params, T)\r\n",
        "    user_id = np.repeat(i, user_state.size)\r\n",
        "    study_ids.append(user_id)\r\n",
        "    study_states.append(user_state)\r\n",
        "    study_probs.append(user_prob)\r\n",
        "    study_actions.append(user_action)\r\n",
        "    study_y.append(user_y)\r\n",
        "  return study_ids, study_states, study_probs, study_actions, study_y\r\n",
        "\r\n",
        "n = 500\r\n",
        "study_ids, study_states, study_probs, study_actions, study_outcomes = generate_mrt(n, state_params, mrt_params, T)\r\n",
        "\r\n",
        "## Build the design matrix\r\n",
        "X = np.concatenate(study_states, axis=0 )\r\n",
        "actions = np.concatenate(study_actions, axis = 0)\r\n",
        "probs = np.concatenate(study_probs, axis = 0)\r\n",
        "outcomes = np.concatenate(study_outcomes, axis = 0)\r\n",
        "\r\n",
        "for col in range(2):\r\n",
        "  temp = np.multiply(X[:,col],actions)\r\n",
        "  X = np.column_stack((X, temp))\r\n",
        "\r\n",
        "reg = LinearRegression().fit(X,outcomes)\r\n",
        "print(\"True coefficients using linear model\")\r\n",
        "print(np.array([1,0.3,0.5,-0.7]))\r\n",
        "print(\"Fitted coefficients using linear model\")\r\n",
        "print(reg.coef_)"
      ],
      "execution_count": 22,
      "outputs": [
        {
          "output_type": "stream",
          "text": [
            "True coefficients using linear model\n",
            "[ 1.   0.3  0.5 -0.7]\n",
            "Fitted coefficients using linear model\n",
            "[ 0.64664284  0.80060373  0.50128226 -0.71852987]\n"
          ],
          "name": "stdout"
        }
      ]
    },
    {
      "cell_type": "markdown",
      "metadata": {
        "id": "ufZl_3Sw44_A"
      },
      "source": [
        "### One way to deal with misspecification"
      ]
    },
    {
      "cell_type": "code",
      "metadata": {
        "colab": {
          "base_uri": "https://localhost:8080/"
        },
        "id": "n2kTclf_4-dS",
        "outputId": "956c327b-b3ca-4f83-9f29-a5d662cc81a2"
      },
      "source": [
        "## What if baseline model is incorrect?\r\n",
        "\r\n",
        "X2 = X[:,(0,2,3)]\r\n",
        "\r\n",
        "reg = LinearRegression().fit(X2,outcomes)\r\n",
        "print(\"Fitted coefficients using misspecified linear model\")\r\n",
        "print(reg.coef_)\r\n",
        "\r\n",
        "X = np.concatenate(study_states, axis=0 )\r\n",
        "\r\n",
        "for col in range(2):\r\n",
        "  temp = np.multiply(X[:,col],actions-probs)\r\n",
        "  X = np.column_stack((X, temp))\r\n",
        "\r\n",
        "reg = LinearRegression().fit(X,outcomes)\r\n",
        "print(\"True coefficients using linear model\")\r\n",
        "print(np.array([1,0.3,0.5,-0.7]))\r\n",
        "print(\"Fitted coefficients using action-centered linear model\")\r\n",
        "print(reg.coef_)\r\n",
        "\r\n",
        "X2 = X[:,(0,2,3)]\r\n",
        "\r\n",
        "reg = LinearRegression().fit(X2,outcomes)\r\n",
        "print(\"Fitted coefficients using misspecified, action-centered linear model\")\r\n",
        "print(reg.coef_)\r\n"
      ],
      "execution_count": 23,
      "outputs": [
        {
          "output_type": "stream",
          "text": [
            "Fitted coefficients using misspecified linear model\n",
            "[ 0.64330654  0.50460626 -0.10138827]\n",
            "True coefficients using linear model\n",
            "[ 1.   0.3  0.5 -0.7]\n",
            "Fitted coefficients using action-centered linear model\n",
            "[ 0.99754042  0.29763282  0.50128226 -0.71852987]\n",
            "Fitted coefficients using misspecified, action-centered linear model\n",
            "[ 0.99693731  0.50279766 -0.71665365]\n"
          ],
          "name": "stdout"
        }
      ]
    },
    {
      "cell_type": "code",
      "metadata": {
        "colab": {
          "base_uri": "https://localhost:8080/"
        },
        "id": "uuHb586c564o",
        "outputId": "0deb7c12-ea18-495c-e49a-be5f3683b0f2"
      },
      "source": [
        "## What about if the probabilities are non-constant?\r\n",
        "mrt_params = np.array([0.,1.,-np.log(1/0.7-1)])\r\n",
        "\r\n",
        "n = 500\r\n",
        "study_ids, study_states, study_probs, study_actions, study_outcomes = generate_mrt(n, state_params, mrt_params, T)\r\n",
        "print(\"Action probability in state2 = 0 & 1\")\r\n",
        "print(np.unique(study_probs))\r\n",
        "\r\n",
        "## Build the design matrix\r\n",
        "X = np.concatenate(study_states, axis=0 )\r\n",
        "actions = np.concatenate(study_actions, axis = 0)\r\n",
        "probs = np.concatenate(study_probs, axis = 0)\r\n",
        "outcomes = np.concatenate(study_outcomes, axis = 0)\r\n",
        "\r\n",
        "for col in range(2):\r\n",
        "  temp = np.multiply(X[:,col],actions)\r\n",
        "  X = np.column_stack((X, temp))\r\n",
        "\r\n",
        "reg = LinearRegression().fit(X,outcomes)\r\n",
        "print(\"True coefficients using linear model\")\r\n",
        "print(np.array([1,0.3,0.5,-0.7]))\r\n",
        "print(\"Fitted coefficients using linear model\")\r\n",
        "print(reg.coef_)\r\n",
        "\r\n",
        "X2 = X[:,(0,2,3)]\r\n",
        "\r\n",
        "reg = LinearRegression().fit(X2,outcomes)\r\n",
        "print(\"Fitted coefficients using misspecified linear model\")\r\n",
        "print(reg.coef_)\r\n",
        "\r\n",
        "X = np.concatenate(study_states, axis=0 )\r\n",
        "\r\n",
        "for col in range(2):\r\n",
        "  temp = np.multiply(X[:,col],actions-probs)\r\n",
        "  X = np.column_stack((X, temp))\r\n",
        "\r\n",
        "reg = LinearRegression().fit(X,outcomes)\r\n",
        "print(\"Fitted coefficients using action-centered linear model\")\r\n",
        "print(reg.coef_)\r\n",
        "\r\n",
        "X2 = X[:,(0,2,3)]\r\n",
        "\r\n",
        "reg = LinearRegression().fit(X2,outcomes)\r\n",
        "print(\"Fitted coefficients using misspecified, action-centered linear model\")\r\n",
        "print(reg.coef_)"
      ],
      "execution_count": 24,
      "outputs": [
        {
          "output_type": "stream",
          "text": [
            "Action probability in state2 = 0 & 1\n",
            "[0.7        0.86380953]\n",
            "True coefficients using linear model\n",
            "[ 1.   0.3  0.5 -0.7]\n",
            "Fitted coefficients using linear model\n",
            "[ 0.62388436  0.88812036  0.48655255 -0.690726  ]\n",
            "Fitted coefficients using misspecified linear model\n",
            "[0.62729518 0.48310979 0.09061836]\n",
            "Fitted coefficients using action-centered linear model\n",
            "[ 1.00433729  0.29171521  0.50861578 -0.69119107]\n",
            "Fitted coefficients using misspecified, action-centered linear model\n",
            "[ 1.0049665   0.50752834 -0.69048104]\n"
          ],
          "name": "stdout"
        }
      ]
    },
    {
      "cell_type": "markdown",
      "metadata": {
        "id": "zDCeGJpT3WhL"
      },
      "source": [
        "# Part 3a: Causal Excursion Effects\r\n",
        "\r\n",
        "We define the _causal excursion effect_ by\r\n",
        "\r\n",
        "$$\r\n",
        "\\beta(t) = \\mathbb{E} \\left[ Y_{t+1}(\\bar A_{t-1}, 1) - Y_{t+1} (\\bar A_{t-1}, 0) \\right]\r\n",
        "$$\r\n",
        "\r\n",
        "It is similar to the ATE (i.e., averaging over the covariate distribution); however, in our current setting, we are also average over __prior treatments__.  Thus the effect is a single decision point _excursion_ from the MRT randomization probability. Under the following (standard) causal inference assumptions,\r\n",
        "\r\n",
        "- **Positivity**:  Treatment probability is bounded away from 0 and 1.\r\n",
        "- **Sequential ignorability**:  potential outcomes are independent of $A_t$ given the observed history $H_t$.\r\n",
        "- **Consistency**:  The observed values are equal the corresponding potential outcomes, i.e., $Y_{t+1} (\\bar A_t) = Y_{t+1}$.  \r\n",
        "\r\n",
        "the effect can be re-expressed as\r\n",
        "\r\n",
        "$$\r\n",
        "\\beta(t) = \\mathbb{E} \\left[ Y_{t+1} \\mid A_t = 1 \\right] - \\mathbb{E} \\left[ Y_{t+1} \\mid A_t = 0 \\right].\r\n",
        "$$\r\n",
        "\r\n",
        "Note, that $\\beta(t)$ is a treatment effect that may vary __over time__!\r\n"
      ]
    },
    {
      "cell_type": "markdown",
      "metadata": {
        "id": "DOucoQPgbfuk"
      },
      "source": [
        "### Moderated effect\r\n",
        "\r\n",
        "Often, we want to understand if certain time-varying covariates _moderate_ the treatment effect.  That is, does the effect of treatment change given the individual is in a particular state.  To address this, we define the \r\n",
        "\r\n",
        "$$\r\n",
        "\\beta(t;s) = \\mathbb{E} \\left[ Y_{t+1}(\\bar A_{t-1}, 1) - Y_{t+1} (\\bar A_{t-1}, 0) \\mid S_t (A_t) = s \\right]\r\n",
        "$$\r\n",
        "\r\n",
        "- This is causal excursion effect is conditional on a summary variable being at value $s$.  \r\n",
        "- The summary variable may be affected by prior treatment.  \r\n",
        "- It is similar to the conditional ATE (i.e., averaging over the covariate distribution except for a particular covariate); \r\n",
        "- In our current setting, we again are also averaging over __prior treatments__ unless the summary variables contain it (i.e., $A_{s} (\\bar A_{s-1}) \\subset S_t (\\bar A_{t-1})$).\r\n",
        "- The effect can be expressed in terms of observable data as\r\n",
        "\r\n",
        "$$\r\n",
        "\\beta(t;s) = \\mathbb{E} \\left[  \\mathbb{E} \\left[ Y_{t+1} \\mid A_t = 1, H_t \\right] - \\mathbb{E} \\left[ Y_{t+1} \\mid A_t = 0, H_t  \\right] \\mid S_t = s \\right]\r\n",
        "$$\r\n",
        "\r\n",
        "- __Question 1__: Why may we not want to consider the fully conditional effect?\r\n",
        "- __Question 2__: What are some moderators in the simple simulation study?\r\n"
      ]
    },
    {
      "cell_type": "markdown",
      "metadata": {
        "id": "0qrftxRRALno"
      },
      "source": [
        "# Part 3b: Primary analysis method\r\n",
        "\r\n",
        "A simple proposal for estimating the marginal causal excursion effect is to simply take the average of all individuals at each time\r\n",
        "$$\r\n",
        "\\frac{\\sum_{j=1}^n Y_{t+1} A_t}{\\sum_{j=1}^n A_t} - \r\n",
        "\\frac{\\sum_{j=1}^n Y_{t+1} (1-A_t)}{\\sum_{j=1}^n (1-A_t)} \r\n",
        "$$\r\n",
        "\r\n",
        "- When is this OK?  When may this be problematic?"
      ]
    },
    {
      "cell_type": "markdown",
      "metadata": {
        "id": "XgfSL30Nt4oc"
      },
      "source": [
        "The issue is that treatment assignment may not be completely at random.  If the action probability depends on the observed history, then some individuals are more likely to receive treatment at certain times than others. \r\n",
        "\r\n",
        "- One solution is __inverse weighting__ \r\n",
        "\r\n",
        "\\begin{align*}\r\n",
        "\\mathbb{E} \\left[ Y_{t+1} \\frac{1[A_t = 1]}{p_t(A_t \\mid H_t)} \\right] \r\n",
        "&= \r\n",
        "\\mathbb{E} \\left[ \\mathbb{E} \\left[ Y_{t+1} \\frac{1[A_t = 1]}{p_t(A_t \\mid H_t)} \\mid H_t \\right] \\right] \\\\\r\n",
        "&= \\mathbb{E} \\left[ \\mathbb{E} \\left[ Y_{t+1}  \\mid H_t, A_t = 1 \\right] \\right] \\\\\r\n",
        "\\end{align*}\r\n",
        "\r\n",
        "- Here, $W_t = 1[A_t = 1]/ p_t (A_t \\mid H_t)$ is the _inverse-probability weight_.\r\n"
      ]
    },
    {
      "cell_type": "markdown",
      "metadata": {
        "id": "gsdytO_hAu64"
      },
      "source": [
        "## Putting together weighting and action-centering\r\n",
        "\r\n",
        "Now that we know about action-centering and weighting, we can define the __weighted-centered least squares__ criterion used to estimate \r\n",
        "\r\n",
        "$$\r\n",
        "\\mathbb{P}_n \\left[ \\sum_{t=1}^T \\frac{\\tilde p_t (A_t \\mid S_t)}{p_t (A_t \\mid H_t)} \\left( Y_{t+1} - g_t (H_t)^\\prime \\alpha - (A_t - \\tilde p_t (1 \\mid S_t)) f_t (S_t)^\\prime \\beta \\right)^2  \\right]\r\n",
        "$$\r\n",
        "\r\n",
        "-where $\\mathbb{P}_n$ just signifies averaging over individuals in the study.\r\n",
        "- __Note__ that the model centers but requires centering using the numerator of the weight for technical (causal) reasons.\r\n",
        "-  Centering: allows us to assume only the _causal_ part of the model is correctly specified\r\n",
        "-  Weights: allows us to estimate the marginal quantity of interest\r\n",
        "-  Control variables ($g_t(H_t)$): These are used to reduce variance of the test statistic.\r\n",
        "\r\n",
        "\r\n"
      ]
    },
    {
      "cell_type": "markdown",
      "metadata": {
        "id": "VG7DWkq2APRo"
      },
      "source": [
        "# Part 3c: Simple simulation practice\r\n",
        "\r\n",
        "__Group exercise__ (20 minutes): \r\n",
        "\r\n",
        "- Use the simulated MRT data to estimate the time-varying treatment and moderated treatment effect.\r\n",
        "- Plot the effect as a function of day in study.\r\n",
        "- Show that weights are necessary to estimate the marginal causal excursion effect.\r\n",
        "- Show that weights are not necessary to estimate the causal excursion effect conditional on current state.\r\n",
        "- What do the results tell us about the intervention component? "
      ]
    },
    {
      "cell_type": "code",
      "metadata": {
        "id": "ZbD3ostDhBmh",
        "colab": {
          "base_uri": "https://localhost:8080/"
        },
        "outputId": "4d6d6424-d5de-4301-93dd-44cd0a4b7548"
      },
      "source": [
        "## Fitting the WCLS\r\n",
        "\r\n",
        "tilde_p = np.mean(probs)*actions + (1-np.mean(probs)) * (1-actions)\r\n",
        "weight = tilde_p / probs\r\n",
        "\r\n",
        "## Build the design matrix\r\n",
        "actions = np.concatenate(study_actions, axis = 0)\r\n",
        "probs = np.concatenate(study_probs, axis = 0)\r\n",
        "outcomes = np.concatenate(study_outcomes, axis = 0)\r\n",
        "\r\n",
        "X = np.concatenate(study_states, axis=0 )\r\n",
        "ac = actions - probs\r\n",
        "X = np.column_stack((X, ac))\r\n",
        "\r\n",
        "## The unweighted model\r\n",
        "reg = LinearRegression().fit(X,outcomes)\r\n",
        "print(\"True coefficients using linear model\")\r\n",
        "print(np.array([-0.7*0.5]))\r\n",
        "print(\"Fitted coefficients using unweighted LS\")\r\n",
        "print(reg.coef_)\r\n",
        "\r\n",
        "## The weighted model\r\n",
        "reg_weight = LinearRegression().fit(X,outcomes, 1/weight)\r\n",
        "print(\"Fitted coefficients using weighted LS\")\r\n",
        "print(reg_weight.coef_)\r\n"
      ],
      "execution_count": 26,
      "outputs": [
        {
          "output_type": "stream",
          "text": [
            "True coefficients using linear model\n",
            "[-0.35]\n",
            "Fitted coefficients using unweighted LS\n",
            "[ 1.00510915  0.28994517 -0.24253389]\n",
            "Fitted coefficients using weighted LS\n",
            "[ 0.87017561  0.47419926 -0.32327398]\n"
          ],
          "name": "stdout"
        }
      ]
    }
   ],
   "source": [
    "## What about if the probabilities are non-constant?\n",
    "mrt_params = np.array([0.,1.,-np.log(1/0.7-1)])\n",
    "\n",
    "n = 500\n",
    "study_ids, study_states, study_probs, study_actions, study_outcomes = generate_mrt(n, state_params, mrt_params, T)\n",
    "print(\"Action probability in state2 = 0 & 1\")\n",
    "print(np.unique(study_probs))\n",
    "\n",
    "## Build the design matrix\n",
    "X = np.concatenate(study_states, axis=0 )\n",
    "actions = np.concatenate(study_actions, axis = 0)\n",
    "probs = np.concatenate(study_probs, axis = 0)\n",
    "outcomes = np.concatenate(study_outcomes, axis = 0)\n",
    "\n",
    "for col in range(2):\n",
    "  temp = np.multiply(X[:,col],actions)\n",
    "  X = np.column_stack((X, temp))\n",
    "\n",
    "reg = LinearRegression().fit(X,outcomes)\n",
    "print(\"True coefficients using linear model\")\n",
    "print(np.array([1,0.3,0.5,-0.7]))\n",
    "print(\"Fitted coefficients using linear model\")\n",
    "print(reg.coef_)\n",
    "\n",
    "X2 = X[:,(0,2,3)]\n",
    "\n",
    "reg = LinearRegression().fit(X2,outcomes)\n",
    "print(\"Fitted coefficients using misspecified linear model\")\n",
    "print(reg.coef_)\n",
    "\n",
    "X = np.concatenate(study_states, axis=0 )\n",
    "\n",
    "for col in range(2):\n",
    "  temp = np.multiply(X[:,col],actions-probs)\n",
    "  X = np.column_stack((X, temp))\n",
    "\n",
    "reg = LinearRegression().fit(X,outcomes)\n",
    "print(\"Fitted coefficients using action-centered linear model\")\n",
    "print(reg.coef_)\n",
    "\n",
    "X2 = X[:,(0,2,3)]\n",
    "\n",
    "reg = LinearRegression().fit(X2,outcomes)\n",
    "print(\"Fitted coefficients using misspecified, action-centered linear model\")\n",
    "print(reg.coef_)"
   ]
  },
  {
   "cell_type": "markdown",
   "metadata": {
    "id": "zDCeGJpT3WhL"
   },
   "source": [
    "# Part 3a: Causal Excursion Effects\n",
    "\n",
    "We define the _causal excursion effect_ by\n",
    "\n",
    "$$\n",
    "\\beta(t) = \\mathbb{E} \\left[ Y_{t+1}(\\bar A_{t-1}, 1) - Y_{t+1} (\\bar A_{t-1}, 0) \\right]\n",
    "$$\n",
    "\n",
    "It is similar to the ATE (i.e., averaging over the covariate distribution); however, in our current setting, we are also average over __prior treatments__.  Thus the effect is a single decision point _excursion_ from the MRT randomization probability. Under the following (standard) causal inference assumptions,\n",
    "\n",
    "- **Positivity**:  Treatment probability is bounded away from 0 and 1.\n",
    "- **Sequential ignorability**:  potential outcomes are independent of $A_t$ given the observed history $H_t$.\n",
    "- **Consistency**:  The observed values are equal the corresponding potential outcomes, i.e., $Y_{t+1} (\\bar A_t) = Y_{t+1}$.  \n",
    "\n",
    "the effect can be re-expressed as\n",
    "\n",
    "$$\n",
    "\\beta(t) = \\mathbb{E} \\left[ Y_{t+1} \\mid A_t = 1 \\right] - \\mathbb{E} \\left[ Y_{t+1} \\mid A_t = 0 \\right].\n",
    "$$\n",
    "\n",
    "Note, that $\\beta(t)$ is a treatment effect that may vary __over time__!\n"
   ]
  },
  {
   "cell_type": "markdown",
   "metadata": {
    "id": "DOucoQPgbfuk"
   },
   "source": [
    "### Moderated effect\n",
    "\n",
    "Often, we want to understand if certain time-varying covariates _moderate_ the treatment effect.  That is, does the effect of treatment change given the individual is in a particular state.  To address this, we define the \n",
    "\n",
    "$$\n",
    "\\beta(t;s) = \\mathbb{E} \\left[ Y_{t+1}(\\bar A_{t-1}, 1) - Y_{t+1} (\\bar A_{t-1}, 0) \\mid S_t (A_t) = s \\right]\n",
    "$$\n",
    "\n",
    "- This is causal excursion effect is conditional on a summary variable being at value $s$.  \n",
    "- The summary variable may be affected by prior treatment.  \n",
    "- It is similar to the conditional ATE (i.e., averaging over the covariate distribution except for a particular covariate); \n",
    "- In our current setting, we again are also averaging over __prior treatments__ unless the summary variables contain it (i.e., $A_{s} (\\bar A_{s-1}) \\subset S_t (\\bar A_{t-1})$).\n",
    "- The effect can be expressed in terms of observable data as\n",
    "\n",
    "$$\n",
    "\\beta(t;s) = \\mathbb{E} \\left[  \\mathbb{E} \\left[ Y_{t+1} \\mid A_t = 1, H_t \\right] - \\mathbb{E} \\left[ Y_{t+1} \\mid A_t = 0, H_t  \\right] \\mid S_t = s \\right]\n",
    "$$\n",
    "\n",
    "- __Question 1__: Why may we not want to consider the fully conditional effect?\n",
    "- __Question 2__: What are some moderators in the simple simulation study?\n"
   ]
  },
  {
   "cell_type": "markdown",
   "metadata": {
    "id": "0qrftxRRALno"
   },
   "source": [
    "# Part 3b: Primary analysis method\n",
    "\n",
    "A simple proposal for estimating the marginal causal excursion effect is to simply take the average of all individuals at each time\n",
    "$$\n",
    "\\frac{\\sum_{j=1}^n Y_{t+1} A_t}{\\sum_{j=1}^n A_t} - \n",
    "\\frac{\\sum_{j=1}^n Y_{t+1} (1-A_t)}{\\sum_{j=1}^n (1-A_t)} \n",
    "$$\n",
    "\n",
    "- When is this OK?  When may this be problematic?"
   ]
  },
  {
   "cell_type": "markdown",
   "metadata": {
    "id": "XgfSL30Nt4oc"
   },
   "source": [
    "The issue is that treatment assignment may not be completely at random.  If the action probability depends on the observed history, then some individuals are more likely to receive treatment at certain times than others. \n",
    "\n",
    "- One solution is __inverse weighting__ \n",
    "\n",
    "\\begin{align*}\n",
    "\\mathbb{E} \\left[ Y_{t+1} \\frac{1[A_t = 1]}{p_t(A_t \\mid H_t)} \\right] \n",
    "&= \n",
    "\\mathbb{E} \\left[ \\mathbb{E} \\left[ Y_{t+1} \\frac{1[A_t = 1]}{p_t(A_t \\mid H_t)} \\mid H_t \\right] \\right] \\\\\n",
    "&= \\mathbb{E} \\left[ \\mathbb{E} \\left[ Y_{t+1}  \\mid H_t, A_t = 1 \\right] \\right] \\\\\n",
    "\\end{align*}\n",
    "\n",
    "- Here, $W_t = 1[A_t = 1]/ p_t (A_t \\mid H_t)$ is the _inverse-probability weight_.\n"
   ]
  },
  {
   "cell_type": "markdown",
   "metadata": {
    "id": "gsdytO_hAu64"
   },
   "source": [
    "## Putting together weighting and action-centering\n",
    "\n",
    "Now that we know about action-centering and weighting, we can define the __weighted-centered least squares__ criterion used to estimate \n",
    "\n",
    "$$\n",
    "\\mathbb{P}_n \\left[ \\sum_{t=1}^T \\frac{\\tilde p_t (A_t \\mid S_t)}{p_t (A_t \\mid H_t)} \\left( Y_{t+1} - g_t (H_t)^\\prime \\alpha - (A_t - \\tilde p_t (1 \\mid S_t)) f_t (S_t)^\\prime \\beta \\right)^2  \\right]\n",
    "$$\n",
    "\n",
    "-where $\\mathbb{P}_n$ just signifies\n",
    "- Note that the model \n",
    "\n",
    "\n"
   ]
  },
  {
   "cell_type": "markdown",
   "metadata": {
    "id": "VG7DWkq2APRo"
   },
   "source": [
    "# Part 3c: Simple simulation practice\n",
    "\n",
    "__Group exercise__ (20 minutes): \n",
    "\n",
    "- Use the simulated MRT data to estimate the time-varying treatment and moderated treatment effect.\n",
    "- Plot the effect as a function of day in study.\n",
    "- Show that weights are necessary to estimate the marginal causal excursion effect.\n",
    "- Show that weights are not necessary to estimate the causal excursion effect conditional on current state.\n",
    "- What do the results tell us about the intervention component? "
   ]
  },
  {
   "cell_type": "code",
   "execution_count": 69,
   "metadata": {
    "colab": {
     "base_uri": "https://localhost:8080/"
    },
    "id": "ZbD3ostDhBmh",
    "outputId": "a7f6a62c-bb8a-45b5-8ea9-8b955cdc4ca0"
   },
   "outputs": [
    {
     "name": "stdout",
     "output_type": "stream",
     "text": [
      "True coefficients using linear model\n",
      "[-0.49]\n",
      "Fitted coefficients using unweighted LS\n",
      "[-0.26031311]\n",
      "Fitted coefficients using weighted LS\n",
      "[-0.27516706]\n"
     ]
    }
   ],
   "source": [
    "## Fitting the WCLS\n",
    "\n",
    "tilde_p = np.mean(probs)*actions + (1-np.mean(probs)) * (1-actions)\n",
    "weight = tilde_p / probs\n",
    "\n",
    "## Build the design matrix\n",
    "actions = np.concatenate(study_actions, axis = 0)\n",
    "probs = np.concatenate(study_probs, axis = 0)\n",
    "outcomes = np.concatenate(study_outcomes, axis = 0)\n",
    "\n",
    "X = actions - probs\n",
    "X = X[:,np.newaxis]\n",
    "\n",
    "## The unweighted model\n",
    "reg = LinearRegression().fit(X,outcomes)\n",
    "print(\"True coefficients using linear model\")\n",
    "print(np.array([-0.7*0.7]))\n",
    "print(\"Fitted coefficients using unweighted LS\")\n",
    "print(reg.coef_)\n",
    "\n",
    "## The weighted model\n",
    "reg_weight = LinearRegression().fit(X,outcomes, weight)\n",
    "print(\"Fitted coefficients using weighted LS\")\n",
    "print(reg_weight.coef_)\n"
   ]
  }
 ],
 "metadata": {
  "colab": {
   "authorship_tag": "ABX9TyNxwBScGhqblr5H+Xp5Arhe",
   "include_colab_link": true,
   "name": "part1_mrt.ipynb",
   "provenance": []
  },
  "kernelspec": {
   "display_name": "Python 3",
   "language": "python",
   "name": "python3"
  },
  "language_info": {
   "codemirror_mode": {
    "name": "ipython",
    "version": 3
   },
   "file_extension": ".py",
   "mimetype": "text/x-python",
   "name": "python",
   "nbconvert_exporter": "python",
   "pygments_lexer": "ipython3",
   "version": "3.7.6"
  }
 },
 "nbformat": 4,
 "nbformat_minor": 1
}

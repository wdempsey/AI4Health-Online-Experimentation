{
 "cells": [
  {
   "cell_type": "markdown",
   "metadata": {
    "colab_type": "text",
    "id": "view-in-github"
   },
   "source": [
    "<a href=\"https://colab.research.google.com/github/wdempsey/AI4Health-Online-Experimentation/blob/main/part1_mrt.ipynb\" target=\"_parent\"><img src=\"https://colab.research.google.com/assets/colab-badge.svg\" alt=\"Open In Colab\"/></a>"
   ]
  },
  {
   "cell_type": "markdown",
   "metadata": {
    "id": "VRMH8jI_13OX"
   },
   "source": [
    "# Section 1: Introduction to MRTs and JITAIS\n",
    "\n"
   ]
  },
  {
   "cell_type": "markdown",
   "metadata": {
    "id": "q_OHHDg8tNW2"
   },
   "source": [
    "In section 1, we will discuss the _micro-randomized trial design_ and the corresponding primary data analysis methods.  By the end of this section, you should be able to answer the following set of questions:\n",
    "- What is a just-in-time adaptive intervention (JITAI)? \n",
    "- What is a micro-randomized trial?\n",
    "- What is a causal excursion effect?  How does one estimate this effect?\n",
    "- What are the main goals of early-stage optimization trials?\n",
    "\n",
    "In addition, we will introduce the _HeartSteps simulator_.  This is a suite of functions that you can access via the GitHub Repository (in folder ``./hs_simulator/``) which allows us to generate synthetic users in a synthetic MRT for increasing physical activity.  We will use this simulator throughout this practical session. "
   ]
  },
  {
   "cell_type": "code",
   "execution_count": 48,
   "metadata": {
    "id": "rvhbY9u0mwXb"
   },
   "outputs": [],
   "source": [
    "## Import packages and check code cells run\n",
    "import numpy as np\n",
    "import scipy as sp\n",
    "from sklearn.linear_model import LinearRegression"
   ]
  },
  {
   "cell_type": "markdown",
   "metadata": {
    "id": "_YKIaRcmwv-g"
   },
   "source": [
    "# Part 1: Just-in-time adaptive interventions\n"
   ]
  },
  {
   "cell_type": "markdown",
   "metadata": {
    "id": "jZP-YwuptHcE"
   },
   "source": [
    "A JITAI is ``is an intervention design aiming to provide the right type/amount of support, at the right time, by adapting to an individual's changing internal and contextual state'' (Nahum-Shani, 2018).  \n",
    "\n",
    "- The term “just-in-time support” is used to describe an attempt to provide the right type (or amount) of support, at the right time.\n",
    "- Timing is largely event-based, e.g., \"a moment of high vulnerability and high receptivity\".  \n",
    "  - Ex. For a person attempting to quit smoking, a moment of high stress may lead to high likelihood of relapse.  If the person is currently available (e.g., no meeting on Google Calendar) and not currently active (e.g., not out for a walk), then the person may be receptive to a brief prompt aimed at reducing proximal stress.\n",
    "  - This is not \"timing-based\", e.g., need to take pills at 4pm every day.\n"
   ]
  },
  {
   "cell_type": "markdown",
   "metadata": {
    "id": "ln01XKOirhVS"
   },
   "source": [
    "\n",
    "There are 5 key components of a JITAI:\n",
    "- __Decision Points__: A decision point is a time at which an intervention decision is made. \n",
    "- __Intervention Options__: An array of possible treatments or actions that might be employed at any given decision point.\n",
    "- __Tailoring Variable__: A tailoring variable is information concerning the individual that is used to decide when (i.e., under what conditions) to provide an intervention and which intervention to provide. \n",
    "- __Outcome__:\n",
    "  - __Distal outcome__: Ultimate goal the intervention is intended to achieve; it is usually a primary clinical outcome, such as weight loss, drug/alcohol use reduction or increase in average activity level.  \n",
    "  - __Proximal outcome__: Short-term goals the intervention options are intended to achieve.  Typically thought to be on the causal pathway (i.e., a mediator).\n",
    "- __Decision rules__:  Operationalize the adaptation by specifying which intervention option to offer, for whom, and when. \n"
   ]
  },
  {
   "cell_type": "markdown",
   "metadata": {
    "id": "0xsctSnZrifU"
   },
   "source": [
    "A JITAI is an _intervention design_.  Behavioral scientists often have questions in how to best design a JITAI for a particular behavioral health setting.  Consider an mHealth smoking cessation setting.  Scientists may wish to intervene by either sending a reminder to practice mindfulness (hopefully reducing proximal stress) or not; however, it is unknown whether sending the message when the individual is currently stressed (high vulnerability but low receptivity) is better than when the individual is current not stressed (low vulnerability but high receptivity).  \n",
    "\n",
    "We will break for 10 minutes for small group intros and a short exercise.\n",
    "\n",
    "- __Group Task 1__: Identify the 5 elements from the following decision rule in a recovery support services mHealth study (A-CHESS):\n",
    "  - __``If``__ ``At High Risk Location``, __``Then``__ ``IO = Send Message``, __``Else``__ ``IO = Do Nothing``.\n",
    "- __Group Task 2__: Construct a JITAI to be included in a smoking cessation mHealth intervention package aimed at reducing proximal stress.  Be sure to highlight the 5 key elements.   \n"
   ]
  },
  {
   "cell_type": "markdown",
   "metadata": {
    "id": "q6qWBt8x2BEW"
   },
   "source": [
    "#Part 2: Micro-randomized trials (MRTs)"
   ]
  },
  {
   "cell_type": "markdown",
   "metadata": {
    "id": "EC6PEcBps-M7"
   },
   "source": [
    "MRTs are an experimental design to collect data to answer questions about the construction of JITAIs. \n",
    "\n",
    "- For each person in a study, let $t=1,\\ldots, T$ denote a sequence of decision points.  \n",
    "- At each decision time $t$,  we observe a state variable $S_t \\in \\mathbb{R}^p$.  \n",
    "- After observing the state variable $S_t$, the _clinical trialist_ decides to take action $A_t \\in \\mathcal{A}$ with probability $p_t (A_t \\mid H_t)$ (i.e., the randomization probability may depend on the observed history $H_t$).  \n",
    "- After observing state $S_t$ and taking action $A_t$, the agent observes the proximal response $Y_{t+1}$.  The proximal response is a deterministic function of state, action, and next state (i.e., $Y_{t+1} = g(S_t, A_t, S_{t+1})$)\n",
    "- The sequence of state, action, and reward at a sequence of decision points defines a _micro-randomized trial_, $\\{ S_t, A_t, Y_{t+1} \\}_{t=1}^T$.\n",
    "- Here, our goal is to collect data to optimize an intervention component\n",
    "  - Q1: Should we include this intervention component in an overall intervention package?\n",
    "  - Q2: What should the decision rule be in the optimized JITAI?"
   ]
  },
  {
   "cell_type": "markdown",
   "metadata": {
    "id": "YVoo7_phPz6J"
   },
   "source": [
    "## Part 2a: A simple MRT example ($n=1$)\n",
    "\n",
    "- $T = 200$\n",
    "- $S_t = (S_{t1}, S_{t2})$ where $S_{t1}$ is continuous and $S_{t2}$ is a binary state\n",
    "- $A_t \\sim \\text{Bern}(0.6)$\n",
    "- Define the proximal outcome as\n",
    "$$\n",
    "Y_{t+1} = S_t^\\prime \\alpha + (A_t - 0.6) S_t^\\prime \\beta \n",
    "$$"
   ]
  },
  {
   "cell_type": "code",
   "execution_count": 55,
   "metadata": {
    "colab": {
     "base_uri": "https://localhost:8080/"
    },
    "id": "EIRfY7By1qUQ",
    "outputId": "d497c726-3054-4740-d446-a05598f70a00"
   },
   "outputs": [
    {
     "name": "stdout",
     "output_type": "stream",
     "text": [
      "First 10 entries of state (2D), action, and reward\n",
      "[[-1.67774485  0.          1.         -0.67342336]\n",
      " [ 0.92247003  1.          1.          2.14675342]\n",
      " [ 0.86406789  0.          0.          0.88478868]\n",
      " [-1.28716849  1.          0.         -0.57770636]\n",
      " [-0.13324275  0.          1.         -0.34647702]\n",
      " [-0.07916853  0.          0.          0.3911439 ]\n",
      " [-0.73334216  1.          0.         -1.16609789]\n",
      " [ 0.7308215   1.          0.          1.33527635]\n",
      " [-0.00571449  0.          0.         -0.05887771]]\n",
      "\n",
      "\n"
     ]
    }
   ],
   "source": [
    "# Simulation example\n",
    "T = 200 # number of steps\n",
    "mrt_prob = 0.6 # time-constant MRT randomizatoin probability\n",
    "state_params = {'mu': 0., 'sigma': 1., 'p': 0.5}\n",
    "\n",
    "## Generate context (normal and binary states)\n",
    "def generate_states(T, params):\n",
    "  state1mu = float(params['mu']) # mean\n",
    "  state1sigma = params['sigma'] # standard deviation\n",
    "  state1 = np.random.normal(state1mu, state1sigma, T) # Continuous state\n",
    "  state2prob =  params['p']\n",
    "  state2 = np.random.binomial(n=1, p = state2prob,size=T) # Binary state\n",
    "  state = np.stack((state1,state2), axis = 1) # Compelte State at each time\n",
    "  return state\n",
    "\n",
    "## Generate actions (MRT with time-fixed probability)\n",
    "def generate_actions(mrt_prob, T):\n",
    "  action = np.random.binomial(n=1, p = mrt_prob,size=T) # Binary state\n",
    "  return action\n",
    "\n",
    "## Generate true reward\n",
    "def proximaloutcome(state, action, params):\n",
    "  base_reward = state[0] + 0.3*state[1] \n",
    "  advantage = 0.5*state[0] - 0.7*state[1]\n",
    "  return base_reward + advantage * (action - 0.6)\n",
    "\n",
    "## Generate single user MRT data\n",
    "def generate_user(params, mrt_prob, T):\n",
    "  state = generate_states(T, params)\n",
    "  action = generate_actions(mrt_prob, T)\n",
    "  y = np.repeat(0.,T)\n",
    "  for t in range(T):\n",
    "    y[t] = proximaloutcome(state[t,:], action[t], params) + np.random.normal(0, 1, 1)\n",
    "  ## Triple\n",
    "  return state, action, y \n",
    "\n",
    "user_state, user_action, user_outcome = generate_user(state_params, mrt_prob, T)\n",
    "user_data = np.column_stack((user_state,user_action, user_outcome))\n",
    "print(\"First 10 entries of state (2D), action, and reward\")\n",
    "print(user_data[1:10,:])\n",
    "print(\"\\n\")"
   ]
  },
  {
   "cell_type": "code",
   "execution_count": 56,
   "metadata": {
    "colab": {
     "base_uri": "https://localhost:8080/"
    },
    "id": "_L8vIkdSS1lk",
    "outputId": "dd2227b4-1d56-4a08-e09e-340e21f58149"
   },
   "outputs": [
    {
     "name": "stdout",
     "output_type": "stream",
     "text": [
      "True coefficients using linear model\n",
      "[ 1.   0.3  0.5 -0.7]\n",
      "Fitted coefficients using linear model\n",
      "[ 0.54409587  0.39564124  0.60186362 -0.33873455]\n"
     ]
    }
   ],
   "source": [
    "## Let's fit a model to the user-data.\n",
    "## Build the design matrix\n",
    "X = user_state\n",
    "for col in range(2):\n",
    "  temp = np.multiply(user_state[:,col],user_action)\n",
    "  X = np.column_stack((X, temp))\n",
    "\n",
    "reg = LinearRegression().fit(X,user_outcome)\n",
    "print(\"True coefficients using linear model\")\n",
    "print(np.array([1,0.3,0.5,-0.7]))\n",
    "print(\"Fitted coefficients using linear model\")\n",
    "print(reg.coef_)"
   ]
  },
  {
   "cell_type": "markdown",
   "metadata": {
    "id": "5F464G1FwNiu"
   },
   "source": [
    "## Question 1: Why do we generate the proximal outcome in this way?"
   ]
  },
  {
   "cell_type": "markdown",
   "metadata": {
    "id": "jKrgg-JgJOib"
   },
   "source": [
    "If we take the expectation over the centered treatment we have\n",
    "\n",
    "$$\n",
    "\\mathbb{E} \\left[ (A_t - p_t) \\mid S_t \\right] = 0\n",
    "$$ \n",
    "\n",
    "This means that the first term is the baseline reward (averaging over treatment) and the second term is the treatment effect.  Centering effectively decouples the treatment effect model from the baseline model."
   ]
  },
  {
   "cell_type": "markdown",
   "metadata": {
    "id": "KwolFIRmvIqC"
   },
   "source": [
    "## Question 2: How can we adapt the traditional RCT estimand to the current setting?\n",
    "\n",
    "In an RCT, the __average treatment effect__ (ATE) is of interest.  We use potential outcomes to define this.  Let $Y(z)$ denote the potential outcome under treatment $z$.  Then, the ATE is defined as\n",
    "$$\n",
    "ATE = \\mathbb{E} \\left[ Y(1) - Y(0) \\right] \n",
    "$$\n",
    "where $Y(1)$ and $Y(0)$ are the potential outcomes for the participant under treatment $(z=1)$ and control $(z=0)$ respectively.  The expectation is with respect to the target population. \n",
    "\n",
    "Here, we have different a sequence of proximal outcomes.  How would you think about defining contrasts similar to the ATE in the current setting?"
   ]
  },
  {
   "cell_type": "markdown",
   "metadata": {
    "id": "CYJQPaKw8Ash"
   },
   "source": [
    "We will formally define this below, but if we think about the potential outcomes, we realize that the proximal outcome at time $t$ will depend not only on the current treatment, __but all prior treatments as well__!  So we need to consider contrasts defined by\n",
    "$$\n",
    "Y_{t+1}( \\bar a_{t-1}, 1 ) - Y_{t+1}( \\bar a_{t-1}, 0 )\n",
    "$$\n",
    "The main issue is that there are $2^{t-1}$ contrasts. This is quite numerous so instead, we typically consider averages over prior treatment.\n",
    "$$\n",
    "\\mathbb{E} \\left[ Y_{t+1}( \\bar A_{t-1}, 1 ) - Y_{t+1}( \\bar A_{t-1}, 0 ) \\right]\n",
    "$$\n",
    "\n"
   ]
  },
  {
   "cell_type": "markdown",
   "metadata": {
    "id": "CbnRinwV8DSb"
   },
   "source": [
    "## Question 3: What goes into choosing the randomization probabilities?\n",
    "\n",
    "- Why may we not want to use a simple Bernoulli $p=1/2$ coin flip to collect data in all micro-randomized trials?\n"
   ]
  },
  {
   "cell_type": "markdown",
   "metadata": {
    "id": "zfrZnOLpMKQI"
   },
   "source": [
    "Some reasons include\n",
    "  - __Burden__: users may not tolerate receiving many messages per day.  Suppose there were 5 decision points per day.  In an mHealth study aimed at increasing physical activity, too many messages sent on average may over-burden users?  How do we find out this dosage?\n",
    "  - __Availability__:  sometimes it may not be possible due to ethical or feasibility issues to provide treatment.  \n",
    "  - __At-risk times__: it may only be useful to provide interventions in certain states.  In Sense2Stop, a smoking cessation may only want to provide \n",
    "  - __Prior data__: perhaps we ran a proir MRT and have data on which to base a data-driven JITAI.  In this case, we may adjust probabilities to increase chance of sending a message in settings that had high empirical rewards from prior data (more on this later).\n",
    "\n"
   ]
  },
  {
   "cell_type": "markdown",
   "metadata": {
    "id": "noC7Rv40UUpY"
   },
   "source": [
    "## Small Group Exercises (20 minutes)\n",
    "\n",
    "- Discuss about questions 1-3\n",
    "- Use the following code where the randomization probability depends on the current state.  \n",
    "- Do the regression results depend on these changes?  What if the model is misspecified?\n"
   ]
  },
  {
   "cell_type": "code",
   "execution_count": 65,
   "metadata": {
    "id": "9GH2qexbTh7m"
   },
   "outputs": [],
   "source": [
    "## Generate actions (MRT with time-fixed probability)\n",
    "def expit(mrt_params, user_state):\n",
    "  total = mrt_params[0]*user_state[0]+mrt_params[1]*user_state[1]+mrt_params[2]\n",
    "  prob = 1/ (1+np.exp(-total))\n",
    "  return prob\n",
    "\n",
    "mrt_params = np.array([0.,0.,-np.log(1/0.7-1)])\n",
    "\n",
    "expit(mrt_params, user_state[1,:])\n",
    "\n",
    "## Generate actions (MRT with time-fixed probability)\n",
    "def generate_actions(mrt_params, user_state):\n",
    "  action = np.repeat(0., user_state.shape[0])\n",
    "  prob = np.repeat(0., user_state.shape[0])\n",
    "  for i in range(user_state.shape[0]):\n",
    "    current_state = user_state[i,:]\n",
    "    current_prob = expit(mrt_params, current_state)\n",
    "    prob[i] = current_prob\n",
    "    action[i] = np.random.binomial(n=1, p = current_prob,size=1) # Binary state\n",
    "  return prob, action\n",
    "\n",
    "## Generate true reward\n",
    "def proximaloutcome(state, action, prob, params):\n",
    "  base_reward = state[0] + 0.3*state[1] \n",
    "  advantage = 0.5*state[0] - 0.7*state[1]\n",
    "  return base_reward + advantage * (action - prob)\n",
    "\n",
    "## Generate single user MRT data\n",
    "def generate_user(params, mrt_params, T):\n",
    "  state = generate_states(T, params)\n",
    "  prob, action = generate_actions(mrt_params, state)\n",
    "  y = np.repeat(0.,T)\n",
    "  for t in range(T):\n",
    "    y[t] = proximaloutcome(state[t,:], action[t], prob[t], params) + np.random.normal(0, 1, 1)\n",
    "  ## Triple\n",
    "  return state, prob, action, y "
   ]
  },
  {
   "cell_type": "code",
   "execution_count": 66,
   "metadata": {
    "colab": {
     "base_uri": "https://localhost:8080/"
    },
    "id": "sxYe0W-Pkyit",
    "outputId": "072e56ab-f4c6-4366-9f2d-68b9cfcb60da"
   },
   "outputs": [
    {
     "name": "stdout",
     "output_type": "stream",
     "text": [
      "True coefficients using linear model\n",
      "[ 1.   0.3  0.5 -0.7]\n",
      "Fitted coefficients using linear model\n",
      "[ 0.65377752  0.79198992  0.49554226 -0.70491239]\n"
     ]
    }
   ],
   "source": [
    "## CODE FOR MRT Generation\n",
    "def generate_mrt(n, params, mrt_params, T):\n",
    "  ### Generate multiple users\n",
    "  study_ids = []\n",
    "  study_states = []\n",
    "  study_probs = []\n",
    "  study_actions = []\n",
    "  study_y = []\n",
    "  for i in range(n):\n",
    "    user_state, user_prob, user_action, user_y = generate_user(params, mrt_params, T)\n",
    "    user_id = np.repeat(i, user_state.size)\n",
    "    study_ids.append(user_id)\n",
    "    study_states.append(user_state)\n",
    "    study_probs.append(user_prob)\n",
    "    study_actions.append(user_action)\n",
    "    study_y.append(user_y)\n",
    "  return study_ids, study_states, study_probs, study_actions, study_y\n",
    "\n",
    "n = 500\n",
    "study_ids, study_states, study_probs, study_actions, study_outcomes = generate_mrt(n, state_params, mrt_params, T)\n",
    "\n",
    "## Build the design matrix\n",
    "X = np.concatenate(study_states, axis=0 )\n",
    "actions = np.concatenate(study_actions, axis = 0)\n",
    "probs = np.concatenate(study_probs, axis = 0)\n",
    "outcomes = np.concatenate(study_outcomes, axis = 0)\n",
    "\n",
    "for col in range(2):\n",
    "  temp = np.multiply(X[:,col],actions)\n",
    "  X = np.column_stack((X, temp))\n",
    "\n",
    "reg = LinearRegression().fit(X,outcomes)\n",
    "print(\"True coefficients using linear model\")\n",
    "print(np.array([1,0.3,0.5,-0.7]))\n",
    "print(\"Fitted coefficients using linear model\")\n",
    "print(reg.coef_)"
   ]
  },
  {
   "cell_type": "markdown",
   "metadata": {
    "id": "ufZl_3Sw44_A"
   },
   "source": [
    "### One way to deal with misspecification"
   ]
  },
  {
   "cell_type": "code",
   "execution_count": 67,
   "metadata": {
    "colab": {
     "base_uri": "https://localhost:8080/"
    },
    "id": "n2kTclf_4-dS",
    "outputId": "fb94509f-39ba-4939-f9d2-964057b06b23"
   },
   "outputs": [
    {
     "name": "stdout",
     "output_type": "stream",
     "text": [
      "Fitted coefficients using misspecified linear model\n",
      "[ 0.65430526  0.49486221 -0.09356058]\n",
      "True coefficients using linear model\n",
      "[ 1.   0.3  0.5 -0.7]\n",
      "Fitted coefficients using action-centered linear model\n",
      "[ 1.00065711  0.29855125  0.49554226 -0.70491239]\n",
      "Fitted coefficients using misspecified, action-centered linear model\n",
      "[ 1.00059561  0.49570413 -0.70222107]\n"
     ]
    }
   ],
   "source": [
    "## What if baseline model is incorrect?\n",
    "\n",
    "X2 = X[:,(0,2,3)]\n",
    "\n",
    "reg = LinearRegression().fit(X2,outcomes)\n",
    "print(\"Fitted coefficients using misspecified linear model\")\n",
    "print(reg.coef_)\n",
    "\n",
    "X = np.concatenate(study_states, axis=0 )\n",
    "\n",
    "for col in range(2):\n",
    "  temp = np.multiply(X[:,col],actions-probs)\n",
    "  X = np.column_stack((X, temp))\n",
    "\n",
    "reg = LinearRegression().fit(X,outcomes)\n",
    "print(\"True coefficients using linear model\")\n",
    "print(np.array([1,0.3,0.5,-0.7]))\n",
    "print(\"Fitted coefficients using action-centered linear model\")\n",
    "print(reg.coef_)\n",
    "\n",
    "X2 = X[:,(0,2,3)]\n",
    "\n",
    "reg = LinearRegression().fit(X2,outcomes)\n",
    "print(\"Fitted coefficients using misspecified, action-centered linear model\")\n",
    "print(reg.coef_)\n"
   ]
  },
  {
   "cell_type": "code",
   "execution_count": 68,
   "metadata": {
    "colab": {
     "base_uri": "https://localhost:8080/"
    },
    "id": "uuHb586c564o",
    "outputId": "96d4d9c5-56a9-43cb-babf-bf0305a41e69"
   },
   "outputs": [
    {
     "name": "stdout",
     "output_type": "stream",
     "text": [
      "Action probability in state2 = 0 & 1\n",
      "[0.7        0.86380953]\n",
      "True coefficients using linear model\n",
      "[ 1.   0.3  0.5 -0.7]\n",
      "Fitted coefficients using linear model\n",
      "[ 0.6160256   0.8836348   0.48507744 -0.69390323]\n",
      "Fitted coefficients using misspecified linear model\n",
      "[0.61304447 0.48766494 0.08341521]\n",
      "Fitted coefficients using action-centered linear model\n",
      "[ 0.99513477  0.28440087  0.50630719 -0.69340309]\n",
      "Fitted coefficients using misspecified, action-centered linear model\n",
      "[ 0.99433671  0.50660566 -0.69503584]\n"
     ]
    }
   ],
   "source": [
    "## What about if the probabilities are non-constant?\n",
    "mrt_params = np.array([0.,1.,-np.log(1/0.7-1)])\n",
    "\n",
    "n = 500\n",
    "study_ids, study_states, study_probs, study_actions, study_outcomes = generate_mrt(n, state_params, mrt_params, T)\n",
    "print(\"Action probability in state2 = 0 & 1\")\n",
    "print(np.unique(study_probs))\n",
    "\n",
    "## Build the design matrix\n",
    "X = np.concatenate(study_states, axis=0 )\n",
    "actions = np.concatenate(study_actions, axis = 0)\n",
    "probs = np.concatenate(study_probs, axis = 0)\n",
    "outcomes = np.concatenate(study_outcomes, axis = 0)\n",
    "\n",
    "for col in range(2):\n",
    "  temp = np.multiply(X[:,col],actions)\n",
    "  X = np.column_stack((X, temp))\n",
    "\n",
    "reg = LinearRegression().fit(X,outcomes)\n",
    "print(\"True coefficients using linear model\")\n",
    "print(np.array([1,0.3,0.5,-0.7]))\n",
    "print(\"Fitted coefficients using linear model\")\n",
    "print(reg.coef_)\n",
    "\n",
    "X2 = X[:,(0,2,3)]\n",
    "\n",
    "reg = LinearRegression().fit(X2,outcomes)\n",
    "print(\"Fitted coefficients using misspecified linear model\")\n",
    "print(reg.coef_)\n",
    "\n",
    "X = np.concatenate(study_states, axis=0 )\n",
    "\n",
    "for col in range(2):\n",
    "  temp = np.multiply(X[:,col],actions-probs)\n",
    "  X = np.column_stack((X, temp))\n",
    "\n",
    "reg = LinearRegression().fit(X,outcomes)\n",
    "print(\"Fitted coefficients using action-centered linear model\")\n",
    "print(reg.coef_)\n",
    "\n",
    "X2 = X[:,(0,2,3)]\n",
    "\n",
    "reg = LinearRegression().fit(X2,outcomes)\n",
    "print(\"Fitted coefficients using misspecified, action-centered linear model\")\n",
    "print(reg.coef_)"
   ]
  },
  {
   "cell_type": "markdown",
   "metadata": {
    "id": "zDCeGJpT3WhL"
   },
   "source": [
    "# Part 3a: Causal Excursion Effects\n",
    "\n",
    "We define the _causal excursion effect_ by\n",
    "\n",
    "$$\n",
    "\\beta(t) = \\mathbb{E} \\left[ Y_{t+1}(\\bar A_{t-1}, 1) - Y_{t+1} (\\bar A_{t-1}, 0) \\right]\n",
    "$$\n",
    "\n",
    "It is similar to the ATE (i.e., averaging over the covariate distribution); however, in our current setting, we are also average over __prior treatments__.  Thus the effect is a single decision point _excursion_ from the MRT randomization probability. Under the following (standard) causal inference assumptions,\n",
    "\n",
    "- **Positivity**:  Treatment probability is bounded away from 0 and 1.\n",
    "- **Sequential ignorability**:  potential outcomes are independent of $A_t$ given the observed history $H_t$.\n",
    "- **Consistency**:  The observed values are equal the corresponding potential outcomes, i.e., $Y_{t+1} (\\bar A_t) = Y_{t+1}$.  \n",
    "\n",
    "the effect can be re-expressed as\n",
    "\n",
    "$$\n",
    "\\beta(t) = \\mathbb{E} \\left[ Y_{t+1} \\mid A_t = 1 \\right] - \\mathbb{E} \\left[ Y_{t+1} \\mid A_t = 0 \\right].\n",
    "$$\n",
    "\n",
    "Note, that $\\beta(t)$ is a treatment effect that may vary __over time__!\n"
   ]
  },
  {
   "cell_type": "markdown",
   "metadata": {
    "id": "DOucoQPgbfuk"
   },
   "source": [
    "### Moderated effect\n",
    "\n",
    "Often, we want to understand if certain time-varying covariates _moderate_ the treatment effect.  That is, does the effect of treatment change given the individual is in a particular state.  To address this, we define the \n",
    "\n",
    "$$\n",
    "\\beta(t;s) = \\mathbb{E} \\left[ Y_{t+1}(\\bar A_{t-1}, 1) - Y_{t+1} (\\bar A_{t-1}, 0) \\mid S_t (A_t) = s \\right]\n",
    "$$\n",
    "\n",
    "- This is causal excursion effect is conditional on a summary variable being at value $s$.  \n",
    "- The summary variable may be affected by prior treatment.  \n",
    "- It is similar to the conditional ATE (i.e., averaging over the covariate distribution except for a particular covariate); \n",
    "- In our current setting, we again are also averaging over __prior treatments__ unless the summary variables contain it (i.e., $A_{s} (\\bar A_{s-1}) \\subset S_t (\\bar A_{t-1})$).\n",
    "- The effect can be expressed in terms of observable data as\n",
    "\n",
    "$$\n",
    "\\beta(t;s) = \\mathbb{E} \\left[  \\mathbb{E} \\left[ Y_{t+1} \\mid A_t = 1, H_t \\right] - \\mathbb{E} \\left[ Y_{t+1} \\mid A_t = 0, H_t  \\right] \\mid S_t = s \\right]\n",
    "$$\n",
    "\n",
    "- __Question 1__: Why may we not want to consider the fully conditional effect?\n",
    "- __Question 2__: What are some moderators in the simple simulation study?\n"
   ]
  },
  {
   "cell_type": "markdown",
   "metadata": {
    "id": "0qrftxRRALno"
   },
   "source": [
    "# Part 3b: Primary analysis method\n",
    "\n",
    "A simple proposal for estimating the marginal causal excursion effect is to simply take the average of all individuals at each time\n",
    "$$\n",
    "\\frac{\\sum_{j=1}^n Y_{t+1} A_t}{\\sum_{j=1}^n A_t} - \n",
    "\\frac{\\sum_{j=1}^n Y_{t+1} (1-A_t)}{\\sum_{j=1}^n (1-A_t)} \n",
    "$$\n",
    "\n",
    "- When is this OK?  When may this be problematic?"
   ]
  },
  {
   "cell_type": "markdown",
   "metadata": {
    "id": "XgfSL30Nt4oc"
   },
   "source": [
    "The issue is that treatment assignment may not be completely at random.  If the action probability depends on the observed history, then some individuals are more likely to receive treatment at certain times than others. \n",
    "\n",
    "- One solution is __inverse weighting__ \n",
    "\n",
    "\\begin{align*}\n",
    "\\mathbb{E} \\left[ Y_{t+1} \\frac{1[A_t = 1]}{p_t(A_t \\mid H_t)} \\right] \n",
    "&= \n",
    "\\mathbb{E} \\left[ \\mathbb{E} \\left[ Y_{t+1} \\frac{1[A_t = 1]}{p_t(A_t \\mid H_t)} \\mid H_t \\right] \\right] \\\\\n",
    "&= \\mathbb{E} \\left[ \\mathbb{E} \\left[ Y_{t+1}  \\mid H_t, A_t = 1 \\right] \\right] \\\\\n",
    "\\end{align*}\n",
    "\n",
    "- Here, $W_t = 1[A_t = 1]/ p_t (A_t \\mid H_t)$ is the _inverse-probability weight_.\n"
   ]
  },
  {
   "cell_type": "markdown",
   "metadata": {
    "id": "gsdytO_hAu64"
   },
   "source": [
    "## Putting together weighting and action-centering\n",
    "\n",
    "Now that we know about action-centering and weighting, we can define the __weighted-centered least squares__ criterion used to estimate \n",
    "\n",
    "$$\n",
    "\\mathbb{P}_n \\left[ \\sum_{t=1}^T \\frac{\\tilde p_t (A_t \\mid S_t)}{p_t (A_t \\mid H_t)} \\left( Y_{t+1} - g_t (H_t)^\\prime \\alpha - (A_t - \\tilde p_t (1 \\mid S_t)) f_t (S_t)^\\prime \\beta \\right)^2  \\right]\n",
    "$$\n",
    "\n",
    "-where $\\mathbb{P}_n$ just signifies\n",
    "- Note that the model \n",
    "\n",
    "\n"
   ]
  },
  {
   "cell_type": "markdown",
   "metadata": {
    "id": "VG7DWkq2APRo"
   },
   "source": [
    "# Part 3c: Simple simulation practice\n",
    "\n",
    "__Group exercise__ (20 minutes): \n",
    "\n",
    "- Use the simulated MRT data to estimate the time-varying treatment and moderated treatment effect.\n",
    "- Plot the effect as a function of day in study.\n",
    "- Show that weights are necessary to estimate the marginal causal excursion effect.\n",
    "- Show that weights are not necessary to estimate the causal excursion effect conditional on current state.\n",
    "- What do the results tell us about the intervention component? "
   ]
  },
  {
   "cell_type": "code",
   "execution_count": 69,
   "metadata": {
    "colab": {
     "base_uri": "https://localhost:8080/"
    },
    "id": "ZbD3ostDhBmh",
    "outputId": "a7f6a62c-bb8a-45b5-8ea9-8b955cdc4ca0"
   },
   "outputs": [
    {
     "name": "stdout",
     "output_type": "stream",
     "text": [
      "True coefficients using linear model\n",
      "[-0.49]\n",
      "Fitted coefficients using unweighted LS\n",
      "[-0.26031311]\n",
      "Fitted coefficients using weighted LS\n",
      "[-0.27516706]\n"
     ]
    }
   ],
   "source": [
    "## Fitting the WCLS\n",
    "\n",
    "tilde_p = np.mean(probs)*actions + (1-np.mean(probs)) * (1-actions)\n",
    "weight = tilde_p / probs\n",
    "\n",
    "## Build the design matrix\n",
    "actions = np.concatenate(study_actions, axis = 0)\n",
    "probs = np.concatenate(study_probs, axis = 0)\n",
    "outcomes = np.concatenate(study_outcomes, axis = 0)\n",
    "\n",
    "X = actions - probs\n",
    "X = X[:,np.newaxis]\n",
    "\n",
    "## The unweighted model\n",
    "reg = LinearRegression().fit(X,outcomes)\n",
    "print(\"True coefficients using linear model\")\n",
    "print(np.array([-0.7*0.7]))\n",
    "print(\"Fitted coefficients using unweighted LS\")\n",
    "print(reg.coef_)\n",
    "\n",
    "## The weighted model\n",
    "reg_weight = LinearRegression().fit(X,outcomes, weight)\n",
    "print(\"Fitted coefficients using weighted LS\")\n",
    "print(reg_weight.coef_)\n"
   ]
  }
 ],
 "metadata": {
  "colab": {
   "authorship_tag": "ABX9TyNxwBScGhqblr5H+Xp5Arhe",
   "include_colab_link": true,
   "name": "part1_mrt.ipynb",
   "provenance": []
  },
  "kernelspec": {
   "display_name": "Python 3",
   "language": "python",
   "name": "python3"
  },
  "language_info": {
   "codemirror_mode": {
    "name": "ipython",
    "version": 3
   },
   "file_extension": ".py",
   "mimetype": "text/x-python",
   "name": "python",
   "nbconvert_exporter": "python",
   "pygments_lexer": "ipython3",
   "version": "3.7.6"
  }
 },
 "nbformat": 4,
 "nbformat_minor": 1
}
